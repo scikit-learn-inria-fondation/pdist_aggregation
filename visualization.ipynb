{
 "cells": [
  {
   "cell_type": "code",
   "execution_count": null,
   "id": "8d8a5d09",
   "metadata": {
    "scrolled": true
   },
   "outputs": [],
   "source": [
    "import os\n",
    "import subprocess\n",
    "import pandas as pd\n",
    "import matplotlib.pyplot as plt\n",
    "import seaborn as sns\n",
    "import numpy as np\n",
    "from sklearn import show_versions\n",
    "plt.rcParams['figure.dpi'] = 100"
   ]
  },
  {
   "cell_type": "code",
   "execution_count": null,
   "id": "5f41fff1",
   "metadata": {},
   "outputs": [],
   "source": [
    "RESULTS_FILE_PATH = \"benchmarks/results/results.csv\"\n",
    "df = pd.read_csv(RESULTS_FILE_PATH)"
   ]
  },
  {
   "cell_type": "code",
   "execution_count": null,
   "id": "challenging-collar",
   "metadata": {},
   "outputs": [],
   "source": [
    "commit = str(subprocess.check_output(['git', 'rev-parse', 'HEAD'])).replace(\"b'\", \"\").replace(\"\\\\n'\", \"\")[:10]"
   ]
  },
  {
   "cell_type": "code",
   "execution_count": null,
   "id": "894b2e6d",
   "metadata": {},
   "outputs": [],
   "source": [
    "cols = [\"n_samples_train\", \"n_samples_test\", \"n_features\", \"n_neighbors\"]\n",
    "df[cols] = df[cols].astype(np.uint32)"
   ]
  },
  {
   "cell_type": "code",
   "execution_count": null,
   "id": "efb9c899",
   "metadata": {},
   "outputs": [],
   "source": [
    "df_grouped = df.groupby([\"n_samples_train\", \"n_samples_test\", \"n_features\", \"n_neighbors\"])"
   ]
  },
  {
   "cell_type": "code",
   "execution_count": null,
   "id": "76656411",
   "metadata": {},
   "outputs": [],
   "source": [
    "y_labels = {\n",
    "    \"time_elapsed\": \"Time elapsed (in s)\",\n",
    "    \"throughput\": \"Thoughput (in GB/s)\"\n",
    "}"
   ]
  },
  {
   "cell_type": "code",
   "execution_count": null,
   "id": "6fe52708",
   "metadata": {
    "scrolled": false
   },
   "outputs": [],
   "source": [
    "for vals, df in df_grouped:\n",
    "    fig, axes = plt.subplots(nrows=1, ncols=2, figsize=(20, 10))\n",
    "    axes = axes.flatten()\n",
    "    for col, ax in zip([\"time_elapsed\", \"throughput\"], axes):\n",
    "        _ = sns.barplot(x=\"chunk_info\", y=col, hue=\"implementation\", data=df, ax=ax)\n",
    "        _ = ax.set_ylabel(y_labels[col])\n",
    "        _ = ax.set_xlabel(\"Chunk size (number of vectors), Number of X_train chunks\")\n",
    "        _ = ax.tick_params(labelrotation=45)\n",
    "    title = f\"NearestNeighbors@{commit} - Euclidean Distance, dtype=np.float64, \"\n",
    "    title += f\"{df.trial.max() + 1} trials, OMP_NUM_THREADS={os.getenv('OMP_NUM_THREADS')}, OPENBLAS_NUM_THREADS={os.getenv('OPENBLAS_NUM_THREADS')}, MKL_NUM_THREADS={os.getenv('MKL_NUM_THREADS')}\\n\"\n",
    "    title += \"n_samples_train=%s - n_samples_test=%s - n_features=%s - n_neighbors=%s\" % vals\n",
    "    _ = fig.suptitle(title, fontsize=16)"
   ]
  },
  {
   "cell_type": "markdown",
   "id": "honey-vessel",
   "metadata": {},
   "source": [
    "### Machine specifications"
   ]
  },
  {
   "cell_type": "code",
   "execution_count": null,
   "id": "smaller-actor",
   "metadata": {},
   "outputs": [],
   "source": [
    "! cat /proc/version"
   ]
  },
  {
   "cell_type": "code",
   "execution_count": null,
   "id": "limited-indie",
   "metadata": {},
   "outputs": [],
   "source": [
    "! lscpu"
   ]
  },
  {
   "cell_type": "code",
   "execution_count": null,
   "id": "indonesian-planning",
   "metadata": {},
   "outputs": [],
   "source": [
    "! gcc -v"
   ]
  },
  {
   "cell_type": "code",
   "execution_count": null,
   "id": "innovative-primary",
   "metadata": {},
   "outputs": [],
   "source": [
    "! env"
   ]
  },
  {
   "cell_type": "markdown",
   "id": "considered-romania",
   "metadata": {},
   "source": [
    "### Environment specifications"
   ]
  },
  {
   "cell_type": "code",
   "execution_count": null,
   "id": "dirty-former",
   "metadata": {},
   "outputs": [],
   "source": [
    "show_versions()"
   ]
  },
  {
   "cell_type": "code",
   "execution_count": null,
   "id": "piano-drama",
   "metadata": {
    "scrolled": true
   },
   "outputs": [],
   "source": [
    "! conda list"
   ]
  },
  {
   "cell_type": "markdown",
   "id": "distinct-pitch",
   "metadata": {},
   "source": [
    "---"
   ]
  },
  {
   "cell_type": "code",
   "execution_count": null,
   "id": "perceived-participant",
   "metadata": {},
   "outputs": [],
   "source": [
    "! date"
   ]
  }
 ],
 "metadata": {
  "kernelspec": {
   "display_name": "Python 3",
   "language": "python",
   "name": "python3"
  },
  "language_info": {
   "codemirror_mode": {
    "name": "ipython",
    "version": 3
   },
   "file_extension": ".py",
   "mimetype": "text/x-python",
   "name": "python",
   "nbconvert_exporter": "python",
   "pygments_lexer": "ipython3",
   "version": "3.8.5"
  }
 },
 "nbformat": 4,
 "nbformat_minor": 5
}
